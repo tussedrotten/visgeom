{
 "cells": [
  {
   "cell_type": "markdown",
   "metadata": {
    "collapsed": true,
    "pycharm": {
     "name": "#%% md\n"
    }
   },
   "source": [
    "# Camera example\n",
    "A simple example showing off some of the functionality of visgeom."
   ]
  },
  {
   "cell_type": "code",
   "execution_count": null,
   "metadata": {
    "ExecuteTime": {
     "end_time": "2024-09-03T09:42:09.765657871Z",
     "start_time": "2024-09-03T09:42:09.741388446Z"
    }
   },
   "outputs": [],
   "source": [
    "%matplotlib notebook\n",
    "\n",
    "import matplotlib.pyplot as plt\n",
    "import visgeom as vg\n",
    "import numpy as np\n",
    "from scipy.spatial.transform import Rotation\n",
    "\n",
    "# Create axis.\n",
    "fig = plt.figure()\n",
    "ax = plt.axes(projection='3d')\n",
    "ax.set_xlabel('x')\n",
    "ax.set_ylabel('y')\n",
    "ax.set_zlabel('z')\n",
    "\n",
    "# Camera intrinsics and pose.\n",
    "K = np.array([[50, 0, 40],\n",
    "              [0, 50, 30],\n",
    "              [0, 0, 1]])\n",
    "R_w_c = np.array([[-1, 0, 0],\n",
    "                  [0, 0, -1],\n",
    "                  [0, -1, 0]])\n",
    "t_w_c = np.array([[3, 3, 0]]).T\n",
    "\n",
    "# Plot camera.\n",
    "vg.plot_pose(ax, (R_w_c, t_w_c), scale=0.4, text='$\\\\mathcal{F}_c$')\n",
    "vg.plot_camera_image_plane(ax, K, (R_w_c, t_w_c), scale=1)\n",
    "\n",
    "# Plot a box in 3D.\n",
    "R_w_b = Rotation.from_rotvec([0, 0, np.pi / 6]).as_matrix()\n",
    "t_w_b = np.array([[3, 0, 0]]).T\n",
    "points_w = vg.utils.generate_box(pose=(R_w_b, t_w_b), scale=0.6)\n",
    "vg.utils.plot_as_box(ax, points_w)\n",
    "\n",
    "# Project the box onto the image plane.\n",
    "points_c = R_w_c.T @ points_w - (R_w_c.T @ t_w_c)\n",
    "xn = points_c / points_c[2, :]\n",
    "xn_w = R_w_c @ xn + t_w_c\n",
    "vg.utils.plot_as_box(ax, xn_w)\n",
    "\n",
    "# Show figure.\n",
    "vg.plot.axis_equal(ax)\n",
    "plt.show()\n"
   ]
  }
 ],
 "metadata": {
  "kernelspec": {
   "display_name": "Python 3 (ipykernel)",
   "language": "python",
   "name": "python3"
  },
  "language_info": {
   "codemirror_mode": {
    "name": "ipython",
    "version": 3
   },
   "file_extension": ".py",
   "mimetype": "text/x-python",
   "name": "python",
   "nbconvert_exporter": "python",
   "pygments_lexer": "ipython3",
   "version": "3.10.12"
  }
 },
 "nbformat": 4,
 "nbformat_minor": 1
}
